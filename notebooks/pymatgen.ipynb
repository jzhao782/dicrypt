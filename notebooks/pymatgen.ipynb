{
 "cells": [
  {
   "cell_type": "code",
   "execution_count": 1,
   "id": "642ca246-09ec-4779-bcdf-f0c64310fb6f",
   "metadata": {},
   "outputs": [],
   "source": [
    "import pandas as pd\n",
    "import pymatgen\n",
    "from pymatgen.ext.matproj import MPRester\n",
    "from pymatgen.symmetry.analyzer import SpacegroupAnalyzer"
   ]
  },
  {
   "cell_type": "code",
   "execution_count": 7,
   "id": "d5afb587-6253-45fb-9f36-3335b07b1aa1",
   "metadata": {},
   "outputs": [],
   "source": [
    "dict = {'id' : [], 'system' : []}\n",
    "mpid_list = ['mp-10164', 'mp-10000', 'mp-10']\n",
    "\n",
    "for mpid in mpid_list:\n",
    "    with MPRester(api_key='scL4gtOTH7U850nI') as m:\n",
    "        struct = m.get_structure_by_material_id(mpid)\n",
    "\n",
    "    analyzer = SpacegroupAnalyzer(struct)\n",
    "    dict['id'].append(mpid)\n",
    "    dict['system'].append(analyzer.get_crystal_system())"
   ]
  },
  {
   "cell_type": "code",
   "execution_count": 20,
   "id": "fa3039c5-3333-4d90-93e7-137737027417",
   "metadata": {},
   "outputs": [],
   "source": [
    "df = pd.DataFrame(dict)"
   ]
  },
  {
   "cell_type": "code",
   "execution_count": null,
   "id": "c2723c14-6db7-492e-916b-ddf8af31b4f1",
   "metadata": {},
   "outputs": [],
   "source": [
    "with MPRester(api_key='scL4gtOTH7U850nI') as m:\n",
    "        struct = m.get_structure_by_material_id('mvc-867839')\n",
    "\n",
    "analyzer = SpacegroupAnalyzer(struct)\n",
    "print(analyzer.get_crystal_system())"
   ]
  },
  {
   "cell_type": "code",
   "execution_count": 20,
   "id": "7a3a8da5-2470-4d04-b8d7-61fb8a3eb231",
   "metadata": {},
   "outputs": [
    {
     "name": "stdout",
     "output_type": "stream",
     "text": [
      "Won’t query mp-769348\n",
      "Won’t query mp-867891\n",
      "Won’t query mp-23426\n",
      "Won’t query mvc-11699\n",
      "Won’t query mp-867839\n",
      "Won’t query mp-625056\n",
      "Won’t query mp-561394\n",
      "Won’t query mp-555855\n",
      "Won’t query mp-867615\n",
      "Won’t query mp-16564\n",
      "Won’t query mp-604812\n",
      "Won’t query mp-25620\n",
      "Won’t query mp-866628\n",
      "Won’t query mp-34710\n",
      "Won’t query mvc-13876\n"
     ]
    }
   ],
   "source": [
    "list=['mp-769348','mp-867891','mp-23426','mvc-11699','mp-867839','mp-625056','mp-561394','mp-555855','mp-867615','mp-16564','mp-604812','mp-25620','mp-866628','mp-34710','mvc-13876']\n",
    "MPR = MPRester(api_key='scL4gtOTH7U850nI')\n",
    "for x in list:\n",
    "    try:\n",
    "        entry = MPR.get_entry_by_material_id(x)\n",
    "    except:\n",
    "        print('Won’t query',x)"
   ]
  },
  {
   "cell_type": "code",
   "execution_count": 19,
   "id": "85da01fe-d720-4990-91d4-5db01d60a492",
   "metadata": {},
   "outputs": [
    {
     "name": "stdout",
     "output_type": "stream",
     "text": [
      "Won’t query mp-769348\n",
      "Won’t query mp-867891\n",
      "Won’t query mp-23426\n",
      "Won’t query mvc-11699\n",
      "Won’t query mp-867839\n",
      "Won’t query mp-625056\n",
      "Won’t query mp-561394\n",
      "Won’t query mp-555855\n",
      "Won’t query mp-867615\n",
      "Won’t query mp-16564\n",
      "Won’t query mp-604812\n",
      "Won’t query mp-25620\n",
      "Won’t query mp-866628\n",
      "Won’t query mp-34710\n",
      "Won’t query mvc-13876\n"
     ]
    }
   ],
   "source": [
    "mpr = MPRester(api_key='scL4gtOTH7U850nI')\n",
    "tids =[\n",
    "    \"mp-769348\",\"mp-867891\",\"mp-23426\",\"mvc-11699\",\"mp-867839\",\n",
    "    \"mp-625056\",\"mp-561394\",\"mp-555855\",\"mp-867615\",\"mp-16564\",\n",
    "    \"mp-604812\",\"mp-25620\",\"mp-866628\",\"mp-34710\",\"mvc-13876\"]\n",
    "# One at a time\n",
    "for tid in tids:\n",
    "    try:\n",
    "        entry = mpr.get_entry_by_material_id({\"task_ids\": tid})\n",
    "    except:\n",
    "        print('Won’t query',tid)"
   ]
  },
  {
   "cell_type": "code",
   "execution_count": null,
   "id": "86c7f0aa-55d9-40f2-a074-4557483e0219",
   "metadata": {},
   "outputs": [],
   "source": []
  }
 ],
 "metadata": {
  "kernelspec": {
   "display_name": "Python 3 (ipykernel)",
   "language": "python",
   "name": "python3"
  },
  "language_info": {
   "codemirror_mode": {
    "name": "ipython",
    "version": 3
   },
   "file_extension": ".py",
   "mimetype": "text/x-python",
   "name": "python",
   "nbconvert_exporter": "python",
   "pygments_lexer": "ipython3",
   "version": "3.7.11"
  }
 },
 "nbformat": 4,
 "nbformat_minor": 5
}
