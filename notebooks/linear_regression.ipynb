{
 "cells": [
  {
   "cell_type": "code",
   "execution_count": 1,
   "id": "68fdd287-7f9c-4216-be52-2ce19e7bab49",
   "metadata": {},
   "outputs": [],
   "source": [
    "import pandas as pd\n",
    "from sklearn.metrics import r2_score, mean_squared_error\n",
    "from sklearn.linear_model import LinearRegression\n",
    "from sklearn.model_selection import train_test_split"
   ]
  },
  {
   "cell_type": "code",
   "execution_count": 3,
   "id": "e85d166d-7a6b-4741-bce1-e0c74b588c99",
   "metadata": {},
   "outputs": [],
   "source": [
    "df = pd.read_csv(\"addedfeatures.csv\")\n",
    "df = df.dropna()"
   ]
  },
  {
   "cell_type": "code",
   "execution_count": 12,
   "id": "6e35bd35-7ec7-47a0-80ff-5c0780ac1193",
   "metadata": {},
   "outputs": [],
   "source": [
    "X, y = df.iloc[:, 4:], df.iloc[:, 2]\n",
    "X_train, X_valid, y_train, y_valid = train_test_split(X, y, train_size = 0.9, test_size = 0.1)"
   ]
  },
  {
   "cell_type": "code",
   "execution_count": 13,
   "id": "70616887-777f-4389-a0b9-6ef672fb920c",
   "metadata": {},
   "outputs": [],
   "source": [
    "reg = LinearRegression().fit(X_train, y_train)"
   ]
  },
  {
   "cell_type": "code",
   "execution_count": 14,
   "id": "0ac3f6c2-7217-47a4-a18a-1348e2f3c2bf",
   "metadata": {},
   "outputs": [],
   "source": [
    "train_pred = reg.predict(X_train)\n",
    "test_pred = reg.predict(X_valid)"
   ]
  },
  {
   "cell_type": "code",
   "execution_count": 15,
   "id": "dec8c1a8-7128-4462-abda-ab7bf3466c05",
   "metadata": {},
   "outputs": [
    {
     "name": "stdout",
     "output_type": "stream",
     "text": [
      "2.007529066635947\n",
      "2.0392853871682006\n"
     ]
    }
   ],
   "source": [
    "print(mean_squared_error(train_pred, y_train) ** 0.5)\n",
    "print(mean_squared_error(test_pred, y_valid) ** 0.5)"
   ]
  },
  {
   "cell_type": "code",
   "execution_count": null,
   "id": "a6ef7f4c-18bf-4e84-ae7b-72f8ce5c6da8",
   "metadata": {},
   "outputs": [],
   "source": []
  }
 ],
 "metadata": {
  "kernelspec": {
   "display_name": "Python 3 (ipykernel)",
   "language": "python",
   "name": "python3"
  },
  "language_info": {
   "codemirror_mode": {
    "name": "ipython",
    "version": 3
   },
   "file_extension": ".py",
   "mimetype": "text/x-python",
   "name": "python",
   "nbconvert_exporter": "python",
   "pygments_lexer": "ipython3",
   "version": "3.7.11"
  }
 },
 "nbformat": 4,
 "nbformat_minor": 5
}
